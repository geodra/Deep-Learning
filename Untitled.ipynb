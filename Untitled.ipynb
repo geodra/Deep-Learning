{
 "cells": [
  {
   "cell_type": "code",
   "execution_count": 7,
   "metadata": {},
   "outputs": [],
   "source": [
    "from tensorflow.examples.tutorials.mnist import input_data\n",
    "import tensorflow as tf\n",
    "import matplotlib.pyplot as plt\n",
    "import numpy as np\n",
    "import random as ran\n",
    "from sklearn.utils import shuffle\n",
    "from sklearn.metrics import confusion_matrix\n",
    "import itertools\n",
    "import os\n",
    "import time\n",
    "import warnings\n",
    "from contextlib import contextmanager\n",
    "from pandas.core.common import SettingWithCopyWarning\n",
    "import sys\n",
    "\n",
    "import warnings\n",
    "warnings.filterwarnings(\"ignore\")"
   ]
  },
  {
   "cell_type": "markdown",
   "metadata": {},
   "source": [
    "### Useful Functions"
   ]
  },
  {
   "cell_type": "code",
   "execution_count": 8,
   "metadata": {},
   "outputs": [],
   "source": [
    "@contextmanager\n",
    "def timer(title):\n",
    "    t0 = time.time()\n",
    "    yield\n",
    "    print(\"{} - done in {:.0f}s\".format(title, time.time() - t0))"
   ]
  },
  {
   "cell_type": "code",
   "execution_count": 25,
   "metadata": {},
   "outputs": [],
   "source": [
    "# Tensorflow saving and loading of models\n",
    "def saveModel(sess,model_file):\n",
    "    print(\"Saving model at: \" + model_file)\n",
    "    saver = tf.train.Saver()\n",
    "    saver.save(sess, model_file)\n",
    "    print(\"Saved\")\n",
    "\n",
    "\n",
    "def loadModel(sess, model_file):\n",
    "    print(\"Loading model from: \" + model_file)\n",
    "    # load saved session\n",
    "    loader = tf.train.Saver()\n",
    "    loader.restore(sess, model_file)\n",
    "    print(\"Loaded\")"
   ]
  },
  {
   "cell_type": "markdown",
   "metadata": {},
   "source": [
    "### Plot Functions"
   ]
  },
  {
   "cell_type": "code",
   "execution_count": 26,
   "metadata": {},
   "outputs": [],
   "source": [
    "def plot_performance(train, test, title, save_plot, path):\n",
    "    plt.figure(figsize=(15, 7))\n",
    "    plt.title(title)\n",
    "    plt.plot(train, label='train')\n",
    "    plt.plot(test, label='test')\n",
    "    plt.legend()\n",
    "    if save_plot:\n",
    "        plt.savefig(path + '/tmp/'+ title + '.png')\n",
    "        plt.close\n",
    "    else:\n",
    "        plt.show()\n",
    "\n",
    "\n",
    "\n",
    "def plot_confusion_matrix(cm, classes,\n",
    "                          normalize=False,\n",
    "                          title='Confusion matrix',\n",
    "                          cmap=plt.cm.Blues):\n",
    "    \"\"\"\n",
    "    This function prints and plots the confusion matrix.\n",
    "    Normalization can be applied by setting `normalize=True`.\n",
    "    \"\"\"\n",
    "    plt.imshow(cm, interpolation='nearest', cmap=cmap)\n",
    "    plt.title(title)\n",
    "    plt.colorbar()\n",
    "    tick_marks = np.arange(len(classes))\n",
    "    plt.xticks(tick_marks, classes, rotation=45)\n",
    "    plt.yticks(tick_marks, classes)\n",
    "\n",
    "    if normalize:\n",
    "        cm = cm.astype('float') / cm.sum(axis=1)[:, np.newaxis]\n",
    "\n",
    "    thresh = cm.max() / 2.\n",
    "    for i, j in itertools.product(range(cm.shape[0]), range(cm.shape[1])):\n",
    "        plt.text(j, i, cm[i, j],\n",
    "                 horizontalalignment=\"center\",\n",
    "                 color=\"white\" if cm[i, j] > thresh else \"black\")\n",
    "\n",
    "    plt.tight_layout()\n",
    "    plt.ylabel('True label')\n",
    "    plt.xlabel('Predicted label')\n",
    "\n",
    "\n",
    "def plot_my_confusion_matrix(y_true_labels,y_hat,title, save_plot, path):\n",
    "            cf=confusion_matrix(y_true_labels, y_hat)\n",
    "            class_names=np.array([0,1,2,3,4,5,6,7,8,9])\n",
    "            plt.figure()\n",
    "            plot_confusion_matrix(cf, class_names,title='Confusion matrix')\n",
    "            plt.title(title)\n",
    "            if save_plot:\n",
    "                plt.savefig(path + '/tmp/' + title + '.png')\n",
    "                plt.close\n",
    "            else:\n",
    "                plt.show()"
   ]
  },
  {
   "cell_type": "markdown",
   "metadata": {},
   "source": [
    "### Load Mnist Dataset"
   ]
  },
  {
   "cell_type": "code",
   "execution_count": 42,
   "metadata": {},
   "outputs": [],
   "source": [
    "def load_mnist(one_hot=True):\n",
    "    return input_data.read_data_sets('MNIST_data', one_hot=one_hot)"
   ]
  },
  {
   "cell_type": "code",
   "execution_count": 49,
   "metadata": {},
   "outputs": [
    {
     "name": "stdout",
     "output_type": "stream",
     "text": [
      "Extracting MNIST_data/train-images-idx3-ubyte.gz\n",
      "Extracting MNIST_data/train-labels-idx1-ubyte.gz\n",
      "Extracting MNIST_data/t10k-images-idx3-ubyte.gz\n",
      "Extracting MNIST_data/t10k-labels-idx1-ubyte.gz\n",
      "Load mnist dataset - done in 0s\n"
     ]
    }
   ],
   "source": [
    "with timer(\"Load mnist dataset\"):\n",
    "        mnist = load_mnist(one_hot=False)"
   ]
  },
  {
   "cell_type": "code",
   "execution_count": 50,
   "metadata": {},
   "outputs": [
    {
     "data": {
      "text/plain": [
       "((55000, 784), (55000,))"
      ]
     },
     "execution_count": 50,
     "metadata": {},
     "output_type": "execute_result"
    }
   ],
   "source": [
    "X_train = mnist.train.images\n",
    "y_train = mnist.train.labels\n",
    "X_train.shape,y_train.shape"
   ]
  },
  {
   "cell_type": "code",
   "execution_count": 51,
   "metadata": {},
   "outputs": [
    {
     "data": {
      "text/plain": [
       "3"
      ]
     },
     "execution_count": 51,
     "metadata": {},
     "output_type": "execute_result"
    }
   ],
   "source": [
    "y_train[1] # It's a three"
   ]
  },
  {
   "cell_type": "code",
   "execution_count": 52,
   "metadata": {},
   "outputs": [
    {
     "name": "stdout",
     "output_type": "stream",
     "text": [
      "Extracting MNIST_data/train-images-idx3-ubyte.gz\n",
      "Extracting MNIST_data/train-labels-idx1-ubyte.gz\n",
      "Extracting MNIST_data/t10k-images-idx3-ubyte.gz\n",
      "Extracting MNIST_data/t10k-labels-idx1-ubyte.gz\n",
      "Load mnist dataset - done in 0s\n"
     ]
    }
   ],
   "source": [
    "with timer(\"Load mnist dataset\"):\n",
    "        mnist = load_mnist(one_hot=True)"
   ]
  },
  {
   "cell_type": "code",
   "execution_count": 53,
   "metadata": {},
   "outputs": [
    {
     "data": {
      "text/plain": [
       "((55000, 784), (55000, 10))"
      ]
     },
     "execution_count": 53,
     "metadata": {},
     "output_type": "execute_result"
    }
   ],
   "source": [
    "X_train = mnist.train.images\n",
    "y_train = mnist.train.labels\n",
    "X_train.shape,y_train.shape"
   ]
  },
  {
   "cell_type": "code",
   "execution_count": 54,
   "metadata": {},
   "outputs": [
    {
     "data": {
      "text/plain": [
       "array([0., 0., 0., 1., 0., 0., 0., 0., 0., 0.])"
      ]
     },
     "execution_count": 54,
     "metadata": {},
     "output_type": "execute_result"
    }
   ],
   "source": [
    "y_train[1] # It's a three, the first element of a vector indicates if ti is 0, the second if it is 1..."
   ]
  },
  {
   "cell_type": "markdown",
   "metadata": {},
   "source": [
    "### Load Train & Test Set"
   ]
  },
  {
   "cell_type": "code",
   "execution_count": 55,
   "metadata": {},
   "outputs": [],
   "source": [
    "def train_set(mnist, num=None):\n",
    "    print ('Total training images in dataset = ' + str(mnist.train.images.shape))\n",
    "    x_train = mnist.train.images[:num,:]\n",
    "    y_train = mnist.train.labels[:num,:]\n",
    "    print ('Train examples loaded = ' + str(len(y_train)))\n",
    "    return x_train, y_train\n",
    "\n",
    "def test_set(mnist, num=None):\n",
    "    print ('Total test images in dataset = ' + str(mnist.test.images.shape))\n",
    "    x_test = mnist.test.images[:num,:]\n",
    "    y_test = mnist.test.labels[:num,:]\n",
    "    print ('Test examples Loaded = ' + str(len(y_test)))\n",
    "    return x_test, y_test"
   ]
  },
  {
   "cell_type": "code",
   "execution_count": 56,
   "metadata": {},
   "outputs": [
    {
     "name": "stdout",
     "output_type": "stream",
     "text": [
      "Total training images in dataset = (55000, 784)\n",
      "Train examples loaded = 55000\n",
      "Total test images in dataset = (10000, 784)\n",
      "Test examples Loaded = 10000\n",
      "Load train & test dataset - done in 0s\n"
     ]
    }
   ],
   "source": [
    " with timer(\"Load train & test dataset\"):\n",
    "        x_train, y_train = train_set(mnist)\n",
    "        x_test, y_test = test_set(mnist)"
   ]
  },
  {
   "cell_type": "code",
   "execution_count": 57,
   "metadata": {},
   "outputs": [
    {
     "name": "stdout",
     "output_type": "stream",
     "text": [
      "Total training images in dataset = (55000, 784)\n",
      "Train examples loaded = 55000\n",
      "Total test images in dataset = (10000, 784)\n",
      "Test examples Loaded = 10000\n",
      "Load train & test dataset - done in 0s\n"
     ]
    }
   ],
   "source": [
    " with timer(\"Load train & test dataset\"):\n",
    "        x_train, y_train = train_set(mnist)\n",
    "        x_test, y_test = test_set(mnist)"
   ]
  },
  {
   "cell_type": "markdown",
   "metadata": {},
   "source": [
    "### Plot images"
   ]
  },
  {
   "cell_type": "code",
   "execution_count": 58,
   "metadata": {},
   "outputs": [],
   "source": [
    "def display_digit(num, x_train, y_train):\n",
    "    label = y_train[num].argmax(axis=0)\n",
    "    # all the pictures have been flatten so we reshape it to 28x28\n",
    "    image = x_train[num].reshape([28,28])\n",
    "    plt.title('Example: %d  Label: %d' % (num, label))\n",
    "    plt.imshow(image, cmap=plt.get_cmap('gray_r'))\n",
    "    plt.show()\n",
    "    print('The shape of the picture is:'+str(image.shape))"
   ]
  },
  {
   "cell_type": "code",
   "execution_count": 59,
   "metadata": {},
   "outputs": [
    {
     "data": {
      "image/png": "[encoded data removed]",
      "text/plain": [
       "<Figure size 432x288 with 1 Axes>"
      ]
     },
     "metadata": {
      "needs_background": "light"
     },
     "output_type": "display_data"
    },
    {
     "name": "stdout",
     "output_type": "stream",
     "text": [
      "The shape of the picture is:(28, 28)\n",
      "Display an image - done in 0s\n"
     ]
    }
   ],
   "source": [
    "with timer(\"Display an image\"):\n",
    "    display_digit(ran.randint(0, x_train.shape[0]), x_train, y_train)"
   ]
  },
  {
   "cell_type": "markdown",
   "metadata": {},
   "source": [
    "**Useful Link:** https://medium.com/@ageitgey/machine-learning-is-fun-part-3-deep-learning-and-convolutional-neural-networks-f40359318721"
   ]
  },
  {
   "cell_type": "markdown",
   "metadata": {},
   "source": [
    "### Plot the input of our NN"
   ]
  },
  {
   "cell_type": "code",
   "execution_count": 20,
   "metadata": {},
   "outputs": [],
   "source": [
    "def display_mult_flat(start, stop, x_train):\n",
    "    images = x_train[start].reshape([1,784])\n",
    "    for i in range(start+1,stop):\n",
    "        images = np.concatenate((images, x_train[i].reshape([1,784])))\n",
    "    plt.imshow(images, cmap=plt.get_cmap('gray_r'))\n",
    "    plt.show()"
   ]
  },
  {
   "cell_type": "code",
   "execution_count": 24,
   "metadata": {},
   "outputs": [
    {
     "data": {
      "image/png": "[encoded data removed]",
      "text/plain": [
       "<Figure size 432x288 with 1 Axes>"
      ]
     },
     "metadata": {
      "needs_background": "light"
     },
     "output_type": "display_data"
    },
    {
     "name": "stdout",
     "output_type": "stream",
     "text": [
      "Display an image - done in 0s\n"
     ]
    }
   ],
   "source": [
    "with timer(\"Display an image\"):\n",
    "    display_mult_flat(0, 400, x_train)"
   ]
  },
  {
   "cell_type": "code",
   "execution_count": 62,
   "metadata": {},
   "outputs": [
    {
     "data": {
      "text/plain": [
       "(1.0, 0.0)"
      ]
     },
     "execution_count": 62,
     "metadata": {},
     "output_type": "execute_result"
    }
   ],
   "source": [
    "x_train.max(),x_train.min() #all inputs are scaled between 0 and 1"
   ]
  },
  {
   "cell_type": "markdown",
   "metadata": {},
   "source": [
    "### Neural Network (linear layer + Softmax)"
   ]
  },
  {
   "cell_type": "code",
   "execution_count": 64,
   "metadata": {},
   "outputs": [],
   "source": [
    "def model(x_train, y_train, x_test, y_test,  model_file, path, batch_size = 128, num_epochs = 20, LR = 0.001,training_mode = True, save_model = True, save_plot =True):\n",
    "\n",
    "    tf.reset_default_graph()\n",
    "\n",
    "    # Comment below commands since data are already scaled, normalized\n",
    "    # x_train /= 255\n",
    "    # x_test /= 255\n",
    "\n",
    "    ## Inputs ##\n",
    "    x = tf.placeholder(tf.float32, shape=[None, 784])\n",
    "    # None means that can be fed any multitude of 784-sized values.\n",
    "    y_ = tf.placeholder(tf.float32, shape=[None, 10])\n",
    "\n",
    "    ## Variables ##\n",
    "    W = tf.Variable(tf.zeros([784,10]))\n",
    "    b = tf.Variable(tf.zeros([10]))\n",
    "\n",
    "    # Outputs\n",
    "    y = tf.nn.softmax(tf.matmul(x,W) + b)\n",
    "\n",
    "    # Loss & optimization - Cross entropy\n",
    "    loss = tf.reduce_mean(-tf.reduce_sum(y_ * tf.log(y), reduction_indices=[1]))\n",
    "    correct_prediction = tf.equal(tf.argmax(y,1), tf.argmax(y_,1))\n",
    "    accuracy = tf.reduce_mean(tf.cast(correct_prediction, tf.float32))\n",
    "\n",
    "    learning_rate = tf.placeholder(\"float32\")\n",
    "    opt = tf.train.GradientDescentOptimizer(learning_rate = learning_rate) #tune\n",
    "    train_op = opt.minimize(loss)\n",
    "\n",
    "    # Metric\n",
    "    y_p = tf.argmax(y, 1)\n",
    "\n",
    "    N = x_train.shape[0]\n",
    "    num_batches = int(N / batch_size)\n",
    "\n",
    "    losses_train_batches, losses_test_batches = [], []\n",
    "    accuracies_train_batches, accuracies_test_batches = [], []\n",
    "    init = tf.global_variables_initializer()\n",
    "\n",
    "    with tf.Session() as sess:\n",
    "        sess.run(init)\n",
    "        best_test_acc = 0\n",
    "        best_train_acc = 0\n",
    "        if not training_mode:\n",
    "            loadModel(sess, model_file)\n",
    "            best_test_acc = sess.run(accuracy, feed_dict={x: x_test, y_: y_test})\n",
    "            best_train_acc = sess.run(accuracy, feed_dict={x: x_train, y_: y_train})\n",
    "            print('Best accuracy achieved on test set: ' + str(best_test_acc) + ' while on train set was: ' + str(\n",
    "                best_train_acc))\n",
    "\n",
    "        else:\n",
    "            for ep in range(num_epochs):\n",
    "                print('EPOCH:', ep)\n",
    "                # reshuffle training data every epoch\n",
    "                X, Y = shuffle(x_train, y_train)\n",
    "                for i in range(num_batches):\n",
    "                    X_batch = X[i * batch_size:(i * batch_size + batch_size)]\n",
    "                    Y_batch = Y[i * batch_size:(i * batch_size + batch_size)]\n",
    "\n",
    "                    sess.run(train_op, feed_dict={x: X_batch, y_: Y_batch, learning_rate: LR})\n",
    "\n",
    "                    # Check performance every some steps\n",
    "                    if i % int(num_batches/4) == 0:\n",
    "                        l_test, acc_test = sess.run([loss, accuracy], feed_dict={x: x_test, y_: y_test})\n",
    "                        losses_test_batches.append(l_test)\n",
    "                        accuracies_test_batches.append(acc_test)\n",
    "\n",
    "                        l_train, acc_train = sess.run([loss, accuracy], feed_dict={x: X, y_: Y})\n",
    "                        losses_train_batches.append(l_train)\n",
    "                        accuracies_train_batches.append(acc_train)\n",
    "\n",
    "                        print(\"Epoch:\", ep, \"Batch:\", i, \"/\", num_batches)\n",
    "                        print('\\n Loss and Accuracy of train set:', l_train, acc_train)\n",
    "                        print('\\n Loss and Accuracy of test set:', l_test, acc_test)\n",
    "\n",
    "                print('End of '+str(ep+1) + ' /' + str(num_epochs))\n",
    "                test_accuracy, y_hat = sess.run([accuracy, y_p], feed_dict={x: x_test, y_: y_test})\n",
    "                train_accuracy = sess.run(accuracy, feed_dict={x: x_train, y_: y_train})\n",
    "                if test_accuracy > best_test_acc:\n",
    "                    best_test_acc = test_accuracy\n",
    "                    best_train_acc = train_accuracy\n",
    "                    # save the y_hat of the best trial to use it in confusion matrix\n",
    "                    best_y_hat = y_hat\n",
    "                    if save_model:\n",
    "                        saveModel(sess, model_file)\n",
    "\n",
    "            print('Best accuracy achieved on test set: '+str(best_test_acc)+ ' while on train set was: '+str(best_train_acc))\n",
    "\n",
    "            title = 'Loss vs Batches'\n",
    "            plot_performance(losses_train_batches, losses_test_batches, title, save_plot, path)\n",
    "\n",
    "            title = 'Accuracy vs Batches'\n",
    "            plot_performance(accuracies_train_batches, accuracies_test_batches, title, save_plot, path)\n",
    "\n",
    "            # Plot confusion Matrix\n",
    "            y_true_labels = np.argmax(y_test, 1)\n",
    "            title='Confusion Matrix for Best Test Accuracy achieved'\n",
    "            plot_my_confusion_matrix(y_true_labels, best_y_hat,title, save_plot, path)"
   ]
  },
  {
   "cell_type": "code",
   "execution_count": 70,
   "metadata": {
    "scrolled": false
   },
   "outputs": [
    {
     "name": "stdout",
     "output_type": "stream",
     "text": [
      "EPOCH: 0\n",
      "Epoch: 0 Batch: 0 / 429\n",
      "\n",
      " Loss and Accuracy of train set: 2.21109 0.18347272\n",
      "\n",
      " Loss and Accuracy of test set: 2.2080977 0.1915\n",
      "Epoch: 0 Batch: 107 / 429\n",
      "\n",
      " Loss and Accuracy of train set: 0.5957575 0.86074543\n",
      "\n",
      " Loss and Accuracy of test set: 0.5689692 0.8698\n",
      "Epoch: 0 Batch: 214 / 429\n",
      "\n",
      " Loss and Accuracy of train set: 0.4835899 0.87694544\n",
      "\n",
      " Loss and Accuracy of test set: 0.45917803 0.8849\n",
      "Epoch: 0 Batch: 321 / 429\n",
      "\n",
      " Loss and Accuracy of train set: 0.43513486 0.88574547\n",
      "\n",
      " Loss and Accuracy of test set: 0.41186514 0.8936\n",
      "Epoch: 0 Batch: 428 / 429\n",
      "\n",
      " Loss and Accuracy of train set: 0.4082589 0.8908182\n",
      "\n",
      " Loss and Accuracy of test set: 0.3851582 0.9004\n",
      "End of 1 /20\n",
      "Saving model at: /Users/Georgios.Drakos/Desktop/tmp/model.ckpt\n",
      "Saved\n",
      "EPOCH: 1\n",
      "Epoch: 1 Batch: 0 / 429\n",
      "\n",
      " Loss and Accuracy of train set: 0.4080987 0.8913818\n",
      "\n",
      " Loss and Accuracy of test set: 0.3852693 0.8994\n",
      "Epoch: 1 Batch: 107 / 429\n",
      "\n",
      " Loss and Accuracy of train set: 0.3903096 0.89556366\n",
      "\n",
      " Loss and Accuracy of test set: 0.36864325 0.9021\n",
      "Epoch: 1 Batch: 214 / 429\n",
      "\n",
      " Loss and Accuracy of train set: 0.3775419 0.8968545\n",
      "\n",
      " Loss and Accuracy of test set: 0.3575936 0.9048\n",
      "Epoch: 1 Batch: 321 / 429\n",
      "\n",
      " Loss and Accuracy of train set: 0.3673186 0.8998182\n",
      "\n",
      " Loss and Accuracy of test set: 0.34746507 0.9066\n",
      "Epoch: 1 Batch: 428 / 429\n",
      "\n",
      " Loss and Accuracy of train set: 0.35847557 0.90116364\n",
      "\n",
      " Loss and Accuracy of test set: 0.3387697 0.9091\n",
      "End of 2 /20\n",
      "Saving model at: /Users/Georgios.Drakos/Desktop/tmp/model.ckpt\n",
      "Saved\n",
      "EPOCH: 2\n",
      "Epoch: 2 Batch: 0 / 429\n",
      "\n",
      " Loss and Accuracy of train set: 0.35873607 0.90058184\n",
      "\n",
      " Loss and Accuracy of test set: 0.33899307 0.909\n",
      "Epoch: 2 Batch: 107 / 429\n",
      "\n",
      " Loss and Accuracy of train set: 0.3515567 0.90221816\n",
      "\n",
      " Loss and Accuracy of test set: 0.33353418 0.9094\n",
      "Epoch: 2 Batch: 214 / 429\n",
      "\n",
      " Loss and Accuracy of train set: 0.34622893 0.90354544\n",
      "\n",
      " Loss and Accuracy of test set: 0.32804012 0.9112\n",
      "Epoch: 2 Batch: 321 / 429\n",
      "\n",
      " Loss and Accuracy of train set: 0.34048036 0.9053818\n",
      "\n",
      " Loss and Accuracy of test set: 0.3239054 0.9105\n",
      "Epoch: 2 Batch: 428 / 429\n",
      "\n",
      " Loss and Accuracy of train set: 0.3365917 0.9068\n",
      "\n",
      " Loss and Accuracy of test set: 0.32054654 0.9124\n",
      "End of 3 /20\n",
      "Saving model at: /Users/Georgios.Drakos/Desktop/tmp/model.ckpt\n",
      "Saved\n",
      "EPOCH: 3\n",
      "Epoch: 3 Batch: 0 / 429\n",
      "\n",
      " Loss and Accuracy of train set: 0.33639959 0.9064\n",
      "\n",
      " Loss and Accuracy of test set: 0.3203601 0.9124\n",
      "Epoch: 3 Batch: 107 / 429\n",
      "\n",
      " Loss and Accuracy of train set: 0.33230522 0.90787274\n",
      "\n",
      " Loss and Accuracy of test set: 0.3170771 0.9133\n",
      "Epoch: 3 Batch: 214 / 429\n",
      "\n",
      " Loss and Accuracy of train set: 0.3288263 0.90843636\n",
      "\n",
      " Loss and Accuracy of test set: 0.31379503 0.914\n",
      "Epoch: 3 Batch: 321 / 429\n",
      "\n",
      " Loss and Accuracy of train set: 0.325912 0.90950906\n",
      "\n",
      " Loss and Accuracy of test set: 0.31121364 0.9132\n",
      "Epoch: 3 Batch: 428 / 429\n",
      "\n",
      " Loss and Accuracy of train set: 0.32356134 0.90965456\n",
      "\n",
      " Loss and Accuracy of test set: 0.30935973 0.9148\n",
      "End of 4 /20\n",
      "Saving model at: /Users/Georgios.Drakos/Desktop/tmp/model.ckpt\n",
      "Saved\n",
      "EPOCH: 4\n",
      "Epoch: 4 Batch: 0 / 429\n",
      "\n",
      " Loss and Accuracy of train set: 0.32336363 0.91016364\n",
      "\n",
      " Loss and Accuracy of test set: 0.3089923 0.9152\n",
      "Epoch: 4 Batch: 107 / 429\n",
      "\n",
      " Loss and Accuracy of train set: 0.3205828 0.9100364\n",
      "\n",
      " Loss and Accuracy of test set: 0.30699253 0.9161\n",
      "Epoch: 4 Batch: 214 / 429\n",
      "\n",
      " Loss and Accuracy of train set: 0.31794235 0.9118\n",
      "\n",
      " Loss and Accuracy of test set: 0.30349296 0.9162\n",
      "Epoch: 4 Batch: 321 / 429\n",
      "\n",
      " Loss and Accuracy of train set: 0.31619135 0.91147274\n",
      "\n",
      " Loss and Accuracy of test set: 0.30305424 0.9159\n",
      "Epoch: 4 Batch: 428 / 429\n",
      "\n",
      " Loss and Accuracy of train set: 0.31446755 0.9129818\n",
      "\n",
      " Loss and Accuracy of test set: 0.30172256 0.916\n",
      "End of 5 /20\n",
      "Saving model at: /Users/Georgios.Drakos/Desktop/tmp/model.ckpt\n",
      "Saved\n",
      "EPOCH: 5\n",
      "Epoch: 5 Batch: 0 / 429\n",
      "\n",
      " Loss and Accuracy of train set: 0.31414804 0.91301817\n",
      "\n",
      " Loss and Accuracy of test set: 0.30088657 0.9161\n",
      "Epoch: 5 Batch: 107 / 429\n",
      "\n",
      " Loss and Accuracy of train set: 0.3128085 0.91205454\n",
      "\n",
      " Loss and Accuracy of test set: 0.29998755 0.9167\n",
      "Epoch: 5 Batch: 214 / 429\n",
      "\n",
      " Loss and Accuracy of train set: 0.31041512 0.9139636\n",
      "\n",
      " Loss and Accuracy of test set: 0.29895452 0.9175\n",
      "Epoch: 5 Batch: 321 / 429\n",
      "\n",
      " Loss and Accuracy of train set: 0.30826494 0.9143818\n",
      "\n",
      " Loss and Accuracy of test set: 0.29707754 0.918\n",
      "Epoch: 5 Batch: 428 / 429\n",
      "\n",
      " Loss and Accuracy of train set: 0.30678344 0.9142727\n",
      "\n",
      " Loss and Accuracy of test set: 0.29468012 0.9159\n",
      "End of 6 /20\n",
      "EPOCH: 6\n",
      "Epoch: 6 Batch: 0 / 429\n",
      "\n",
      " Loss and Accuracy of train set: 0.3080156 0.9136364\n",
      "\n",
      " Loss and Accuracy of test set: 0.29581368 0.917\n",
      "Epoch: 6 Batch: 107 / 429\n",
      "\n",
      " Loss and Accuracy of train set: 0.3052924 0.91525453\n",
      "\n",
      " Loss and Accuracy of test set: 0.29481387 0.9188\n",
      "Epoch: 6 Batch: 214 / 429\n",
      "\n",
      " Loss and Accuracy of train set: 0.30385074 0.9151273\n",
      "\n",
      " Loss and Accuracy of test set: 0.2932792 0.9172\n",
      "Epoch: 6 Batch: 321 / 429\n",
      "\n",
      " Loss and Accuracy of train set: 0.30248275 0.91612726\n",
      "\n",
      " Loss and Accuracy of test set: 0.29205266 0.9193\n",
      "Epoch: 6 Batch: 428 / 429\n",
      "\n",
      " Loss and Accuracy of train set: 0.3016611 0.9162545\n",
      "\n",
      " Loss and Accuracy of test set: 0.29250565 0.9192\n",
      "End of 7 /20\n",
      "Saving model at: /Users/Georgios.Drakos/Desktop/tmp/model.ckpt\n",
      "Saved\n",
      "EPOCH: 7\n",
      "Epoch: 7 Batch: 0 / 429\n",
      "\n",
      " Loss and Accuracy of train set: 0.30184722 0.9163091\n",
      "\n",
      " Loss and Accuracy of test set: 0.2929201 0.9197\n",
      "Epoch: 7 Batch: 107 / 429\n",
      "\n",
      " Loss and Accuracy of train set: 0.30029377 0.9170909\n",
      "\n",
      " Loss and Accuracy of test set: 0.2907257 0.9186\n",
      "Epoch: 7 Batch: 214 / 429\n",
      "\n",
      " Loss and Accuracy of train set: 0.2994614 0.91705453\n",
      "\n",
      " Loss and Accuracy of test set: 0.2900255 0.9184\n",
      "Epoch: 7 Batch: 321 / 429\n",
      "\n",
      " Loss and Accuracy of train set: 0.29815552 0.9168364\n",
      "\n",
      " Loss and Accuracy of test set: 0.28872567 0.9199\n",
      "Epoch: 7 Batch: 428 / 429\n",
      "\n",
      " Loss and Accuracy of train set: 0.29815713 0.9170727\n",
      "\n",
      " Loss and Accuracy of test set: 0.2905015 0.9205\n",
      "End of 8 /20\n",
      "Saving model at: /Users/Georgios.Drakos/Desktop/tmp/model.ckpt\n",
      "Saved\n",
      "EPOCH: 8\n",
      "Epoch: 8 Batch: 0 / 429\n",
      "\n",
      " Loss and Accuracy of train set: 0.2978941 0.9170909\n",
      "\n",
      " Loss and Accuracy of test set: 0.28989035 0.9202\n",
      "Epoch: 8 Batch: 107 / 429\n",
      "\n",
      " Loss and Accuracy of train set: 0.29609 0.91785455\n",
      "\n",
      " Loss and Accuracy of test set: 0.28815064 0.9203\n",
      "Epoch: 8 Batch: 214 / 429\n",
      "\n",
      " Loss and Accuracy of train set: 0.2950528 0.91763633\n",
      "\n",
      " Loss and Accuracy of test set: 0.28715512 0.9211\n",
      "Epoch: 8 Batch: 321 / 429\n",
      "\n",
      " Loss and Accuracy of train set: 0.29453173 0.91816366\n",
      "\n",
      " Loss and Accuracy of test set: 0.28648356 0.9199\n",
      "Epoch: 8 Batch: 428 / 429\n",
      "\n",
      " Loss and Accuracy of train set: 0.2929834 0.9187818\n",
      "\n",
      " Loss and Accuracy of test set: 0.28574032 0.9199\n",
      "End of 9 /20\n",
      "EPOCH: 9\n",
      "Epoch: 9 Batch: 0 / 429\n",
      "\n",
      " Loss and Accuracy of train set: 0.29313052 0.9187091\n",
      "\n",
      " Loss and Accuracy of test set: 0.2862085 0.9201\n",
      "Epoch: 9 Batch: 107 / 429\n",
      "\n",
      " Loss and Accuracy of train set: 0.29263142 0.9186182\n",
      "\n",
      " Loss and Accuracy of test set: 0.28473204 0.9196\n",
      "Epoch: 9 Batch: 214 / 429\n",
      "\n",
      " Loss and Accuracy of train set: 0.2919286 0.9183273\n",
      "\n",
      " Loss and Accuracy of test set: 0.28520063 0.9185\n",
      "Epoch: 9 Batch: 321 / 429\n",
      "\n",
      " Loss and Accuracy of train set: 0.2915069 0.91916364\n",
      "\n",
      " Loss and Accuracy of test set: 0.28553247 0.9189\n",
      "Epoch: 9 Batch: 428 / 429\n",
      "\n",
      " Loss and Accuracy of train set: 0.29234585 0.91792727\n",
      "\n",
      " Loss and Accuracy of test set: 0.28579935 0.9205\n",
      "End of 10 /20\n",
      "EPOCH: 10\n",
      "Epoch: 10 Batch: 0 / 429\n",
      "\n",
      " Loss and Accuracy of train set: 0.29165328 0.91816366\n",
      "\n",
      " Loss and Accuracy of test set: 0.2851892 0.9198\n",
      "Epoch: 10 Batch: 107 / 429\n",
      "\n",
      " Loss and Accuracy of train set: 0.29170653 0.9182\n",
      "\n",
      " Loss and Accuracy of test set: 0.2848572 0.9184\n",
      "Epoch: 10 Batch: 214 / 429\n",
      "\n",
      " Loss and Accuracy of train set: 0.2886187 0.91949093\n",
      "\n",
      " Loss and Accuracy of test set: 0.28189823 0.9213\n",
      "Epoch: 10 Batch: 321 / 429\n",
      "\n",
      " Loss and Accuracy of train set: 0.28851032 0.91941816\n",
      "\n",
      " Loss and Accuracy of test set: 0.28269756 0.9207\n",
      "Epoch: 10 Batch: 428 / 429\n",
      "\n",
      " Loss and Accuracy of train set: 0.28730765 0.9201273\n",
      "\n",
      " Loss and Accuracy of test set: 0.28131685 0.9217\n",
      "End of 11 /20\n",
      "Saving model at: /Users/Georgios.Drakos/Desktop/tmp/model.ckpt\n",
      "Saved\n",
      "EPOCH: 11\n",
      "Epoch: 11 Batch: 0 / 429\n",
      "\n",
      " Loss and Accuracy of train set: 0.2879576 0.92005455\n",
      "\n",
      " Loss and Accuracy of test set: 0.28149098 0.9227\n",
      "Epoch: 11 Batch: 107 / 429\n",
      "\n",
      " Loss and Accuracy of train set: 0.2871476 0.9196727\n",
      "\n",
      " Loss and Accuracy of test set: 0.28182715 0.9201\n"
     ]
    },
    {
     "name": "stdout",
     "output_type": "stream",
     "text": [
      "Epoch: 11 Batch: 214 / 429\n",
      "\n",
      " Loss and Accuracy of train set: 0.28667283 0.9190909\n",
      "\n",
      " Loss and Accuracy of test set: 0.2816831 0.9199\n",
      "Epoch: 11 Batch: 321 / 429\n",
      "\n",
      " Loss and Accuracy of train set: 0.28726768 0.9202545\n",
      "\n",
      " Loss and Accuracy of test set: 0.2830865 0.9203\n",
      "Epoch: 11 Batch: 428 / 429\n",
      "\n",
      " Loss and Accuracy of train set: 0.2849288 0.92047274\n",
      "\n",
      " Loss and Accuracy of test set: 0.28070828 0.9216\n",
      "End of 12 /20\n",
      "EPOCH: 12\n",
      "Epoch: 12 Batch: 0 / 429\n",
      "\n",
      " Loss and Accuracy of train set: 0.28506613 0.92014545\n",
      "\n",
      " Loss and Accuracy of test set: 0.28072745 0.9214\n",
      "Epoch: 12 Batch: 107 / 429\n",
      "\n",
      " Loss and Accuracy of train set: 0.28577983 0.92087275\n",
      "\n",
      " Loss and Accuracy of test set: 0.2816761 0.92\n",
      "Epoch: 12 Batch: 214 / 429\n",
      "\n",
      " Loss and Accuracy of train set: 0.28610393 0.92045456\n",
      "\n",
      " Loss and Accuracy of test set: 0.2810321 0.92\n",
      "Epoch: 12 Batch: 321 / 429\n",
      "\n",
      " Loss and Accuracy of train set: 0.28384846 0.9212546\n",
      "\n",
      " Loss and Accuracy of test set: 0.28055382 0.9221\n",
      "Epoch: 12 Batch: 428 / 429\n",
      "\n",
      " Loss and Accuracy of train set: 0.28268948 0.9212546\n",
      "\n",
      " Loss and Accuracy of test set: 0.27838188 0.9214\n",
      "End of 13 /20\n",
      "EPOCH: 13\n",
      "Epoch: 13 Batch: 0 / 429\n",
      "\n",
      " Loss and Accuracy of train set: 0.2827163 0.9214727\n",
      "\n",
      " Loss and Accuracy of test set: 0.27827543 0.9222\n",
      "Epoch: 13 Batch: 107 / 429\n",
      "\n",
      " Loss and Accuracy of train set: 0.28278267 0.9213455\n",
      "\n",
      " Loss and Accuracy of test set: 0.27881533 0.9212\n",
      "Epoch: 13 Batch: 214 / 429\n",
      "\n",
      " Loss and Accuracy of train set: 0.28209257 0.9217455\n",
      "\n",
      " Loss and Accuracy of test set: 0.27852428 0.9222\n",
      "Epoch: 13 Batch: 321 / 429\n",
      "\n",
      " Loss and Accuracy of train set: 0.28146324 0.9219091\n",
      "\n",
      " Loss and Accuracy of test set: 0.27889466 0.9217\n",
      "Epoch: 13 Batch: 428 / 429\n",
      "\n",
      " Loss and Accuracy of train set: 0.2809267 0.9222364\n",
      "\n",
      " Loss and Accuracy of test set: 0.2773719 0.9233\n",
      "End of 14 /20\n",
      "Saving model at: /Users/Georgios.Drakos/Desktop/tmp/model.ckpt\n",
      "Saved\n",
      "EPOCH: 14\n",
      "Epoch: 14 Batch: 0 / 429\n",
      "\n",
      " Loss and Accuracy of train set: 0.28111222 0.92216367\n",
      "\n",
      " Loss and Accuracy of test set: 0.27737883 0.9234\n",
      "Epoch: 14 Batch: 107 / 429\n",
      "\n",
      " Loss and Accuracy of train set: 0.28278384 0.9204909\n",
      "\n",
      " Loss and Accuracy of test set: 0.27772528 0.9228\n",
      "Epoch: 14 Batch: 214 / 429\n",
      "\n",
      " Loss and Accuracy of train set: 0.2806124 0.92161816\n",
      "\n",
      " Loss and Accuracy of test set: 0.27791685 0.923\n",
      "Epoch: 14 Batch: 321 / 429\n",
      "\n",
      " Loss and Accuracy of train set: 0.28102195 0.92121816\n",
      "\n",
      " Loss and Accuracy of test set: 0.27696788 0.9225\n",
      "Epoch: 14 Batch: 428 / 429\n",
      "\n",
      " Loss and Accuracy of train set: 0.2797062 0.9219818\n",
      "\n",
      " Loss and Accuracy of test set: 0.27762356 0.9223\n",
      "End of 15 /20\n",
      "EPOCH: 15\n",
      "Epoch: 15 Batch: 0 / 429\n",
      "\n",
      " Loss and Accuracy of train set: 0.2793179 0.9220182\n",
      "\n",
      " Loss and Accuracy of test set: 0.2772527 0.9219\n",
      "Epoch: 15 Batch: 107 / 429\n",
      "\n",
      " Loss and Accuracy of train set: 0.2796546 0.92303634\n",
      "\n",
      " Loss and Accuracy of test set: 0.2768318 0.9222\n",
      "Epoch: 15 Batch: 214 / 429\n",
      "\n",
      " Loss and Accuracy of train set: 0.2785249 0.92285454\n",
      "\n",
      " Loss and Accuracy of test set: 0.2759728 0.9229\n",
      "Epoch: 15 Batch: 321 / 429\n",
      "\n",
      " Loss and Accuracy of train set: 0.2784987 0.9224909\n",
      "\n",
      " Loss and Accuracy of test set: 0.27687562 0.9226\n",
      "Epoch: 15 Batch: 428 / 429\n",
      "\n",
      " Loss and Accuracy of train set: 0.27766886 0.9228727\n",
      "\n",
      " Loss and Accuracy of test set: 0.27715778 0.9232\n",
      "End of 16 /20\n",
      "EPOCH: 16\n",
      "Epoch: 16 Batch: 0 / 429\n",
      "\n",
      " Loss and Accuracy of train set: 0.27794012 0.9226182\n",
      "\n",
      " Loss and Accuracy of test set: 0.2771159 0.9227\n",
      "Epoch: 16 Batch: 107 / 429\n",
      "\n",
      " Loss and Accuracy of train set: 0.27770343 0.92358184\n",
      "\n",
      " Loss and Accuracy of test set: 0.27743125 0.9233\n",
      "Epoch: 16 Batch: 214 / 429\n",
      "\n",
      " Loss and Accuracy of train set: 0.27718437 0.92254543\n",
      "\n",
      " Loss and Accuracy of test set: 0.27586007 0.9218\n",
      "Epoch: 16 Batch: 321 / 429\n",
      "\n",
      " Loss and Accuracy of train set: 0.27724516 0.92243636\n",
      "\n",
      " Loss and Accuracy of test set: 0.2758478 0.9238\n",
      "Epoch: 16 Batch: 428 / 429\n",
      "\n",
      " Loss and Accuracy of train set: 0.2758165 0.9234\n",
      "\n",
      " Loss and Accuracy of test set: 0.27498832 0.9219\n",
      "End of 17 /20\n",
      "EPOCH: 17\n",
      "Epoch: 17 Batch: 0 / 429\n",
      "\n",
      " Loss and Accuracy of train set: 0.27590394 0.9229818\n",
      "\n",
      " Loss and Accuracy of test set: 0.27507222 0.9223\n",
      "Epoch: 17 Batch: 107 / 429\n",
      "\n",
      " Loss and Accuracy of train set: 0.27593946 0.9224909\n",
      "\n",
      " Loss and Accuracy of test set: 0.27462456 0.9217\n",
      "Epoch: 17 Batch: 214 / 429\n",
      "\n",
      " Loss and Accuracy of train set: 0.27524832 0.92374545\n",
      "\n",
      " Loss and Accuracy of test set: 0.27422968 0.9224\n",
      "Epoch: 17 Batch: 321 / 429\n",
      "\n",
      " Loss and Accuracy of train set: 0.2757102 0.92323637\n",
      "\n",
      " Loss and Accuracy of test set: 0.27572066 0.9212\n",
      "Epoch: 17 Batch: 428 / 429\n",
      "\n",
      " Loss and Accuracy of train set: 0.2746825 0.9240364\n",
      "\n",
      " Loss and Accuracy of test set: 0.27480844 0.9222\n",
      "End of 18 /20\n",
      "EPOCH: 18\n",
      "Epoch: 18 Batch: 0 / 429\n",
      "\n",
      " Loss and Accuracy of train set: 0.27487448 0.9241818\n",
      "\n",
      " Loss and Accuracy of test set: 0.27491271 0.922\n",
      "Epoch: 18 Batch: 107 / 429\n",
      "\n",
      " Loss and Accuracy of train set: 0.27449983 0.92432725\n",
      "\n",
      " Loss and Accuracy of test set: 0.27422643 0.9233\n",
      "Epoch: 18 Batch: 214 / 429\n",
      "\n",
      " Loss and Accuracy of train set: 0.2755535 0.9233091\n",
      "\n",
      " Loss and Accuracy of test set: 0.2755586 0.9221\n",
      "Epoch: 18 Batch: 321 / 429\n",
      "\n",
      " Loss and Accuracy of train set: 0.27460203 0.92425454\n",
      "\n",
      " Loss and Accuracy of test set: 0.2755272 0.9225\n",
      "Epoch: 18 Batch: 428 / 429\n",
      "\n",
      " Loss and Accuracy of train set: 0.2746988 0.923\n",
      "\n",
      " Loss and Accuracy of test set: 0.27417713 0.9233\n",
      "End of 19 /20\n",
      "EPOCH: 19\n",
      "Epoch: 19 Batch: 0 / 429\n",
      "\n",
      " Loss and Accuracy of train set: 0.2741518 0.92358184\n",
      "\n",
      " Loss and Accuracy of test set: 0.2737223 0.9226\n",
      "Epoch: 19 Batch: 107 / 429\n",
      "\n",
      " Loss and Accuracy of train set: 0.2735684 0.92385453\n",
      "\n",
      " Loss and Accuracy of test set: 0.2744215 0.9229\n",
      "Epoch: 19 Batch: 214 / 429\n",
      "\n",
      " Loss and Accuracy of train set: 0.2730757 0.9242182\n",
      "\n",
      " Loss and Accuracy of test set: 0.27400386 0.9229\n",
      "Epoch: 19 Batch: 321 / 429\n",
      "\n",
      " Loss and Accuracy of train set: 0.27289617 0.92454547\n",
      "\n",
      " Loss and Accuracy of test set: 0.2737685 0.9223\n",
      "Epoch: 19 Batch: 428 / 429\n",
      "\n",
      " Loss and Accuracy of train set: 0.27286983 0.9243636\n",
      "\n",
      " Loss and Accuracy of test set: 0.27334318 0.9237\n",
      "End of 20 /20\n",
      "Saving model at: /Users/Georgios.Drakos/Desktop/tmp/model.ckpt\n",
      "Saved\n",
      "Best accuracy achieved on test set: 0.9237 while on train set was: 0.9243636\n",
      "Run model - done in 19s\n"
     ]
    },
    {
     "data": {
      "image/png": "[encoded data removed]",
      "text/plain": [
       "<Figure size 1080x504 with 1 Axes>"
      ]
     },
     "metadata": {
      "needs_background": "light"
     },
     "output_type": "display_data"
    },
    {
     "data": {
      "image/png": "[encoded data removed]",
      "text/plain": [
       "<Figure size 1080x504 with 1 Axes>"
      ]
     },
     "metadata": {
      "needs_background": "light"
     },
     "output_type": "display_data"
    },
    {
     "data": {
      "image/png": "[encoded data removed]",
      "text/plain": [
       "<Figure size 432x288 with 2 Axes>"
      ]
     },
     "metadata": {
      "needs_background": "light"
     },
     "output_type": "display_data"
    }
   ],
   "source": [
    " with timer(\"Run model\"):\n",
    "        model(x_train, y_train, x_test, y_test, model_file, path, batch_size=128, num_epochs=20, LR=0.1, training_mode=True, save_model = True, save_plot = True)"
   ]
  },
  {
   "cell_type": "code",
   "execution_count": null,
   "metadata": {},
   "outputs": [],
   "source": []
  }
 ],
 "metadata": {
  "kernelspec": {
   "display_name": "Python (kaggle)",
   "language": "python",
   "name": "myenv"
  },
  "language_info": {
   "codemirror_mode": {
    "name": "ipython",
    "version": 3
   },
   "file_extension": ".py",
   "mimetype": "text/x-python",
   "name": "python",
   "nbconvert_exporter": "python",
   "pygments_lexer": "ipython3",
   "version": "3.6.8"
  }
 },
 "nbformat": 4,
 "nbformat_minor": 2
}
